{
 "cells": [
  {
   "cell_type": "code",
   "execution_count": 8,
   "metadata": {
    "collapsed": true
   },
   "outputs": [],
   "source": [
    "class Empty(object):\n",
    "    def print_out(self):\n",
    "        print(\"yay\")\n",
    "        "
   ]
  },
  {
   "cell_type": "code",
   "execution_count": 9,
   "metadata": {},
   "outputs": [
    {
     "name": "stdout",
     "output_type": "stream",
     "text": [
      "yay\n"
     ]
    }
   ],
   "source": [
    "e = Empty()\n",
    "\n",
    "e.print_out()\n",
    "e.data = [1, 2, 3]"
   ]
  },
  {
   "cell_type": "code",
   "execution_count": 15,
   "metadata": {},
   "outputs": [
    {
     "data": {
      "text/plain": [
       "'baz'"
      ]
     },
     "execution_count": 15,
     "metadata": {},
     "output_type": "execute_result"
    }
   ],
   "source": [
    "e.bar = \"baz\"\n",
    "e.bar"
   ]
  },
  {
   "cell_type": "code",
   "execution_count": 14,
   "metadata": {
    "collapsed": true
   },
   "outputs": [],
   "source": [
    "class Foo(object):\n",
    "    def __init__(self, x, y, z = 0):\n",
    "        self._x = x\n",
    "        self._y = y\n",
    "        if x > y:\n",
    "            self.summation = x + y + z\n",
    "        else:\n",
    "            self.summation = x - y - z\n",
    "        \n",
    "    def get_x(self):\n",
    "        return self._x\n",
    "    \n",
    "    def get_y(self):\n",
    "        return self._y\n",
    "    \n",
    "    def get_summation(self):\n",
    "        return self.summation\n",
    "    \n",
    "    def update_x(self, x):\n",
    "        # Remove (old) x contribution to summation\n",
    "        self.summation -= self._x\n",
    "        \n",
    "        # Set new x\n",
    "        self._x = x\n",
    "        \n",
    "        # Add new x into summation\n",
    "        self.summation += self._x\n",
    "        \n",
    "foo = Foo(10, 5)"
   ]
  },
  {
   "cell_type": "code",
   "execution_count": 15,
   "metadata": {},
   "outputs": [
    {
     "data": {
      "text/plain": [
       "15"
      ]
     },
     "execution_count": 15,
     "metadata": {},
     "output_type": "execute_result"
    }
   ],
   "source": [
    "foo.get_summation()"
   ]
  },
  {
   "cell_type": "code",
   "execution_count": 13,
   "metadata": {},
   "outputs": [
    {
     "name": "stdout",
     "output_type": "stream",
     "text": [
      "105\n"
     ]
    }
   ],
   "source": [
    "foo.update_x(100)\n",
    "print(foo.get_summation())"
   ]
  },
  {
   "cell_type": "markdown",
   "metadata": {},
   "source": [
    "Tradition in Python land is that anything starting with an underscore is \"private\" and shouldn't be touched by the outside world.  That doesn't make it impossible, it's just a note to the programmer."
   ]
  },
  {
   "cell_type": "code",
   "execution_count": 7,
   "metadata": {},
   "outputs": [
    {
     "name": "stdout",
     "output_type": "stream",
     "text": [
      "10\n"
     ]
    }
   ],
   "source": [
    "class Foo(object):\n",
    "    def __init__(self, x):\n",
    "        self._x = x\n",
    "        \n",
    "    def get_x(self):\n",
    "        return self._x\n",
    "    \n",
    "    def update_x(self, x):\n",
    "        self._x = x\n",
    "        \n",
    "foo = Foo(10)\n",
    "print(foo.get_x())"
   ]
  },
  {
   "cell_type": "markdown",
   "metadata": {
    "collapsed": true
   },
   "source": [
    "Create Car class that contains passengers and tracks its speed.\n",
    "\n",
    "Methods:\n",
    "    * add_passenger(seat, name)\n",
    "    * get_passenger(seat)\n",
    "    * accelerate()\n",
    "    * brake()\n",
    "    * get_speed()\n",
    "    \n",
    "`add_passenger` will add a passenger to the car, in the specified seat, which is a string.  If `get_passenger()` is passed the same seat, it should return that passenger's name.  If the seat is unoccupied or does not exist, return `None`.\n",
    "\n",
    "Example:\n",
    "\n",
    "```\n",
    "car.add_passenger(\"driver\", \"Elliot Saba\")\n",
    "car.add_passenger(\"passenger\", \"Erika Saba\")\n",
    "car.get_passenger(\"passenger\") == \"Erika Saba\"\n",
    "```\n",
    "\n",
    "`accelerate()` increases the car's current speed by 15 MPH.  `brake()` decreases the car's current speed by 10MPH.  The speed should never fall below 0 MPH.\n",
    "\n",
    "Example:\n",
    "```\n",
    "car.accelerate()\n",
    "car.get_speed() == 15\n",
    "car.brake()\n",
    "car.get_speed() == 5\n",
    "car.brake()\n",
    "car.get_speed() == 0\n",
    "```"
   ]
  },
  {
   "cell_type": "code",
   "execution_count": 28,
   "metadata": {},
   "outputs": [
    {
     "name": "stdout",
     "output_type": "stream",
     "text": [
      "Rebecca Black\n",
      "15\n",
      "5\n",
      "0\n"
     ]
    }
   ],
   "source": [
    "class Car(object):\n",
    "    def __init__(self):\n",
    "        self.speed = 0\n",
    "        self.passengers = {}\n",
    "        \n",
    "    def add_passenger(self, seat, name):\n",
    "        # Building a mapping from the seat to the name\n",
    "        self.passengers[seat] = name\n",
    "        \n",
    "    def get_passenger(self, seat):\n",
    "        if seat in self.passengers:\n",
    "            # Query the dict for the passenger in this seat\n",
    "            return self.passengers[seat]\n",
    "        else:\n",
    "            return \"Unoccupied\"\n",
    "        \n",
    "    def accelerate(self):\n",
    "        self.speed += 15\n",
    "        \n",
    "    def brake(self):\n",
    "        self.speed -= 10\n",
    "        \n",
    "        # IF we have less than 0 MPJ, set to zero.\n",
    "        if self.speed < 0:\n",
    "            self.speed = 0\n",
    "        \n",
    "    def get_speed(self):\n",
    "        return self.speed\n",
    "    \n",
    "c = Car()\n",
    "c.add_passenger(\"front\", \"Rebecca Black\")\n",
    "print(c.get_passenger(\"front\"))\n",
    "\n",
    "c.accelerate()\n",
    "print(c.get_speed())\n",
    "c.brake()\n",
    "print(c.get_speed())\n",
    "c.brake()\n",
    "print(c.get_speed())"
   ]
  },
  {
   "cell_type": "code",
   "execution_count": 21,
   "metadata": {},
   "outputs": [
    {
     "name": "stdout",
     "output_type": "stream",
     "text": [
      "foo is in d!\n",
      "bar is not in d!\n"
     ]
    }
   ],
   "source": [
    "d = {}\n",
    "d[\"foo\"] = 1\n",
    "d[\"foo\"]\n",
    "\n",
    "\n",
    "# Testing keys in dictionaries\n",
    "if \"foo\" in d:\n",
    "    print(\"foo is in d!\")\n",
    "else:\n",
    "    print(\"foo is not in d!\")\n",
    "    \n",
    "if \"bar\" in d:\n",
    "    print(\"bar is in d!\")\n",
    "else:\n",
    "    print(\"bar is not in d!\")"
   ]
  }
 ],
 "metadata": {
  "kernelspec": {
   "display_name": "Python 3",
   "language": "python",
   "name": "python3"
  },
  "language_info": {
   "codemirror_mode": {
    "name": "ipython",
    "version": 3
   },
   "file_extension": ".py",
   "mimetype": "text/x-python",
   "name": "python",
   "nbconvert_exporter": "python",
   "pygments_lexer": "ipython3",
   "version": "3.6.3"
  }
 },
 "nbformat": 4,
 "nbformat_minor": 2
}
