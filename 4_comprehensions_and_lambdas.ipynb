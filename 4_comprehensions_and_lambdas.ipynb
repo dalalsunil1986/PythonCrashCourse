{
 "cells": [
  {
   "cell_type": "markdown",
   "metadata": {
    "collapsed": true
   },
   "source": [
    "# Check 0\n",
    "\n",
    "Build a function that takes in a list of numbers and only returns the even ones.  "
   ]
  },
  {
   "cell_type": "code",
   "execution_count": 23,
   "metadata": {},
   "outputs": [
    {
     "data": {
      "text/plain": [
       "['front', 'back', 'side', 'other']"
      ]
     },
     "execution_count": 23,
     "metadata": {},
     "output_type": "execute_result"
    }
   ],
   "source": [
    "d = {\n",
    "    \"front\": \"Elliot\",\n",
    "    \"back\": \"Erika\",\n",
    "    \"side\": \"Elise\",\n",
    "    \"other\": \"Edward\",\n",
    "}\n",
    "\n",
    "\n",
    "l = [key for key in d.keys()]\n",
    "l"
   ]
  },
  {
   "cell_type": "code",
   "execution_count": 20,
   "metadata": {},
   "outputs": [
    {
     "name": "stdout",
     "output_type": "stream",
     "text": [
      "['The', 'And', 'Has', 'The', 'The', 'And', 'Has', 'Not', 'But', 'The', 'Was', 'The', 'The', 'And']\n"
     ]
    }
   ],
   "source": [
    "paragraph = \"Lorem Ipsum is simply dummy text of the printing and typesetting industry. Lorem Ipsum has been the industry's standard dummy text ever since the 1500s, when an unknown printer took a galley of type and scrambled it to make a type specimen book. It has survived not only five centuries, but also the leap into electronic typesetting, remaining essentially unchanged. It was popularised in the 1960s with the release of Letraset sheets containing Lorem Ipsum passages, and more recently with desktop publishing software like Aldus PageMaker including versions of Lorem Ipsum.\"\n",
    "\n",
    "# words = paragraph.split()\n",
    "# l = []\n",
    "# for word in words:\n",
    "#     if len(word) == 3:\n",
    "#         l += [word]\n",
    "\n",
    "def captialize(w):\n",
    "    return w[0].upper() + w[1:]\n",
    "\n",
    "l = [captialize(word) for word in paragraph.split() if len(word) == 3]\n",
    "print(l)"
   ]
  },
  {
   "cell_type": "code",
   "execution_count": 33,
   "metadata": {},
   "outputs": [
    {
     "name": "stdout",
     "output_type": "stream",
     "text": [
      "{'front': 'me', 'back': 'you', 'side': 'us', 'up': 'them'}\n"
     ]
    }
   ],
   "source": [
    "seats = [\"front\", \"back\", \"side\", \"up\"]\n",
    "people = [\"me\", \"you\", \"us\", \"them\", \"him\", \"her\"]\n",
    "\n",
    "# dict such that \"front\" => \"me\", \"back\" => \"you\", etc....\n",
    "\n",
    "d = {}\n",
    "for idx in range(len(seats)):\n",
    "    d[seats[idx]] = people[idx]\n",
    "    \n",
    "print(d)"
   ]
  },
  {
   "cell_type": "code",
   "execution_count": 34,
   "metadata": {},
   "outputs": [
    {
     "data": {
      "text/plain": [
       "{'back': 'you', 'front': 'me', 'side': 'us', 'up': 'them'}"
      ]
     },
     "execution_count": 34,
     "metadata": {},
     "output_type": "execute_result"
    }
   ],
   "source": [
    "d = {seats[idx]:people[idx] for idx in range(len(seats))}\n",
    "d"
   ]
  },
  {
   "cell_type": "code",
   "execution_count": 44,
   "metadata": {},
   "outputs": [
    {
     "data": {
      "text/plain": [
       "<filter at 0x1068964a8>"
      ]
     },
     "execution_count": 44,
     "metadata": {},
     "output_type": "execute_result"
    }
   ],
   "source": [
    "def is_it_even(x):\n",
    "    return x % 10 == 0\n",
    "\n",
    "def starts_with_consonant(x):\n",
    "    return x[0].lower() not in [\"a\", \"e\", \"i\", \"o\", \"u\", \"y\"]\n",
    "\n",
    "f = filter(starts_with_consonant, paragraph.split())\n",
    "#[w for w in paragraph.split() if starts_with_consonant(w)]\n",
    "f"
   ]
  },
  {
   "cell_type": "code",
   "execution_count": 51,
   "metadata": {},
   "outputs": [
    {
     "data": {
      "text/plain": [
       "[0, 2, 4, 6, 8, 10, 12, 14, 16, 18]"
      ]
     },
     "execution_count": 51,
     "metadata": {},
     "output_type": "execute_result"
    }
   ],
   "source": [
    "def add_two(x):\n",
    "    return x * 2\n",
    "\n",
    "a2 = add_two\n",
    "list(map(a2, range(10)))"
   ]
  },
  {
   "cell_type": "code",
   "execution_count": 53,
   "metadata": {},
   "outputs": [
    {
     "data": {
      "text/plain": [
       "[3, 4, 5, 6, 7, 8, 9, 10, 11, 12]"
      ]
     },
     "execution_count": 53,
     "metadata": {},
     "output_type": "execute_result"
    }
   ],
   "source": [
    "list(map(lambda x: x + 3, range(10)))"
   ]
  }
 ],
 "metadata": {
  "kernelspec": {
   "display_name": "Python 3",
   "language": "python",
   "name": "python3"
  },
  "language_info": {
   "codemirror_mode": {
    "name": "ipython",
    "version": 3
   },
   "file_extension": ".py",
   "mimetype": "text/x-python",
   "name": "python",
   "nbconvert_exporter": "python",
   "pygments_lexer": "ipython3",
   "version": "3.6.3"
  }
 },
 "nbformat": 4,
 "nbformat_minor": 2
}
