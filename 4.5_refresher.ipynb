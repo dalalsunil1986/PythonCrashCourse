{
 "cells": [
  {
   "cell_type": "markdown",
   "metadata": {},
   "source": [
    "# Quick review\n",
    "\n",
    "### Functions\n",
    "\n",
    "Make a function to return the sum of two inputs, e.g.:\n",
    "\n",
    "```\n",
    "my_sum(1, 3) == 4\n",
    "```\n"
   ]
  },
  {
   "cell_type": "code",
   "execution_count": 10,
   "metadata": {},
   "outputs": [
    {
     "data": {
      "text/plain": [
       "4"
      ]
     },
     "execution_count": 10,
     "metadata": {},
     "output_type": "execute_result"
    }
   ],
   "source": [
    "def my_sum(x, y):\n",
    "    return x + y\n",
    "\n",
    "my_sum(1, 3)"
   ]
  },
  {
   "cell_type": "markdown",
   "metadata": {},
   "source": [
    "### Classes\n",
    "\n",
    "Make a class that stores a number in its constructor, and provides a single method to get that number.  e.g.:\n",
    "\n",
    "```\n",
    "foo = Foo(10)\n",
    "foo.get_number() == 10\n",
    "```"
   ]
  },
  {
   "cell_type": "code",
   "execution_count": 12,
   "metadata": {},
   "outputs": [
    {
     "data": {
      "text/plain": [
       "2"
      ]
     },
     "execution_count": 12,
     "metadata": {},
     "output_type": "execute_result"
    }
   ],
   "source": [
    "class Foo(object):\n",
    "    def __init__(self, data):\n",
    "        self.my_number = data\n",
    "        \n",
    "    def get_number(self):\n",
    "        return self.my_number\n",
    "    \n",
    "foo = Foo(10)\n",
    "foo.get_number()\n",
    "\n",
    "two = Foo(2)\n",
    "two.get_number()"
   ]
  },
  {
   "cell_type": "markdown",
   "metadata": {},
   "source": [
    "### Lists\n",
    "\n",
    "We can append lists, iterate over them, filter them, map them"
   ]
  },
  {
   "cell_type": "code",
   "execution_count": 14,
   "metadata": {},
   "outputs": [
    {
     "data": {
      "text/plain": [
       "[1, 2, 3, 'four', <__main__.Foo at 0x10d909f28>]"
      ]
     },
     "execution_count": 14,
     "metadata": {},
     "output_type": "execute_result"
    }
   ],
   "source": [
    "z = [1, 2, 3, \"four\", Foo(5)]\n",
    "z"
   ]
  },
  {
   "cell_type": "code",
   "execution_count": 15,
   "metadata": {
    "collapsed": true
   },
   "outputs": [],
   "source": [
    "z += [6]"
   ]
  },
  {
   "cell_type": "code",
   "execution_count": 16,
   "metadata": {},
   "outputs": [
    {
     "data": {
      "text/plain": [
       "[1, 2, 3, 'four', <__main__.Foo at 0x10d909f28>, 6]"
      ]
     },
     "execution_count": 16,
     "metadata": {},
     "output_type": "execute_result"
    }
   ],
   "source": [
    "z"
   ]
  },
  {
   "cell_type": "code",
   "execution_count": 17,
   "metadata": {},
   "outputs": [
    {
     "name": "stdout",
     "output_type": "stream",
     "text": [
      "1\n",
      "2\n",
      "3\n",
      "four\n",
      "<__main__.Foo object at 0x10d909f28>\n",
      "6\n"
     ]
    }
   ],
   "source": [
    "for element in z:\n",
    "    print(element)"
   ]
  },
  {
   "cell_type": "code",
   "execution_count": 18,
   "metadata": {},
   "outputs": [
    {
     "data": {
      "text/plain": [
       "6"
      ]
     },
     "execution_count": 18,
     "metadata": {},
     "output_type": "execute_result"
    }
   ],
   "source": [
    "len(z)"
   ]
  },
  {
   "cell_type": "code",
   "execution_count": 19,
   "metadata": {},
   "outputs": [
    {
     "data": {
      "text/plain": [
       "range(0, 6)"
      ]
     },
     "execution_count": 19,
     "metadata": {},
     "output_type": "execute_result"
    }
   ],
   "source": [
    "range(len(z))"
   ]
  },
  {
   "cell_type": "markdown",
   "metadata": {},
   "source": [
    "### Dictionaries\n",
    "\n",
    "We can store into dicts, iterate over them, filter them, map them"
   ]
  },
  {
   "cell_type": "code",
   "execution_count": 20,
   "metadata": {
    "collapsed": true
   },
   "outputs": [],
   "source": [
    "d = {\n",
    "    \"foo\": 1,\n",
    "    2: \"bar\",\n",
    "    3: Foo(300),\n",
    "}"
   ]
  },
  {
   "cell_type": "code",
   "execution_count": 21,
   "metadata": {},
   "outputs": [
    {
     "data": {
      "text/plain": [
       "1"
      ]
     },
     "execution_count": 21,
     "metadata": {},
     "output_type": "execute_result"
    }
   ],
   "source": [
    "d[\"foo\"]"
   ]
  },
  {
   "cell_type": "code",
   "execution_count": 25,
   "metadata": {},
   "outputs": [
    {
     "data": {
      "text/plain": [
       "300"
      ]
     },
     "execution_count": 25,
     "metadata": {},
     "output_type": "execute_result"
    }
   ],
   "source": [
    "d[3].get_number()"
   ]
  },
  {
   "cell_type": "code",
   "execution_count": 27,
   "metadata": {},
   "outputs": [
    {
     "name": "stdout",
     "output_type": "stream",
     "text": [
      "1\n",
      "bar\n",
      "<__main__.Foo object at 0x10d9090f0>\n"
     ]
    }
   ],
   "source": [
    "for key in d:\n",
    "    print(d[key])"
   ]
  },
  {
   "cell_type": "markdown",
   "metadata": {},
   "source": [
    "# Refresher\n",
    "\n",
    "To prime the pump this morning and cement what we talked about last night, we're going to start off with a coding exercise.\n",
    "\n",
    "We are going to build a restaurant ordering system.  We will maintain a menu with items mapping to prices, and a receipt that will keep track of what has been ordered, and calculate a total amount (including tax and tip).\n",
    "\n",
    "Example API:\n",
    "\n",
    "\n",
    "* `Menu` class:\n",
    "    - `Menu()` - Constructor takes no arguments, starts as an empty menu\n",
    "    - `register(name, price)` - Adds a new item, with its requisite price\n",
    "    - `get_price(name)` - Gets the price of a previously added item, throws a `KeyError` if `name` is not on the menu.\n",
    "    - `print_menu()` - Give a nice summary of the menu by printing out the menu items and their prices\n",
    "    \n",
    "    \n",
    "* `Receipt` class:\n",
    "    - `Receipt(menu)` - Constructor takes in a `Menu` class, showing which `Menu` we're ordering from.\n",
    "    - `order(name)` - Orders an item from the menu, adding it to the internal \"tab\", keeping track of what has been ordered.  Throws a `KeyError` if `name` is not on the menu.\n",
    "    - `get_tab()` - Return every item on the current tab.\n",
    "    - `get_subtotal()` - Return the subtotal, e.g. the price of all items on the tab\n",
    "    - `get_total(tax_percent, tip_percent)` - Return the total, e.g. the subtotal plus tax, plus tip.  Give default values for each percentage.\n",
    "    \n",
    "\n",
    "Example Testing script:\n",
    "```\n",
    "menu = Menu()\n",
    "menu.register(\"eggs\", 5.99)\n",
    "menu.register(\"waffles\", 6.99)\n",
    "menu.register(\"steak\", 15.99)\n",
    "menu.register(\"tea\", 0.75)\n",
    "menu.register(\"milk\", 1.50)\n",
    "\n",
    "receipt = Receipt(menu)\n",
    "\n",
    "# The breakfast of champions\n",
    "receipt.order(\"steak\")\n",
    "receipt.order(\"eggs\")\n",
    "receipt.order(\"milk\")\n",
    "\n",
    "# Let's tip well and add 10% tax.\n",
    "receipt.get_total(tax_percent = 0.10, tip_percent=0.20)\n",
    "```\n",
    "\n",
    "The total printed by the above script should be `30.524`.  Also, if we ask to print the menu, it should print something like:\n",
    "\n",
    "```\n",
    "Elliot's fabulous menu:\n",
    "eggs :  5.99\n",
    "waffles :  6.99\n",
    "steak :  15.99\n",
    "tea :  0.75\n",
    "milk :  1.5\n",
    "```"
   ]
  },
  {
   "cell_type": "code",
   "execution_count": 38,
   "metadata": {},
   "outputs": [
    {
     "name": "stdout",
     "output_type": "stream",
     "text": [
      "Elliot's fabulous menu\n",
      "eggs 5.99\n",
      "waffles 6.99\n",
      "milk 0.75\n"
     ]
    }
   ],
   "source": [
    "class Menu(object):\n",
    "    def __init__(self):\n",
    "        self.prices = {}\n",
    "        \n",
    "    def register(self, name, price):\n",
    "        # store the name/price mapping into self.prices\n",
    "        self.prices[name] = price\n",
    "        \n",
    "    def get_price(self, name):\n",
    "        return self.prices[name]\n",
    "    \n",
    "    def print_menu(self):\n",
    "        print(\"Elliot's fabulous menu\")\n",
    "        for key in self.prices:\n",
    "            value = self.prices[key]\n",
    "            print(key, value)\n",
    "\n",
    "\n",
    "        \n",
    "menu = Menu()\n",
    "menu.register(\"eggs\", 5.99)\n",
    "menu.register(\"waffles\", 6.99)\n",
    "menu.register(\"milk\", 0.75)\n",
    "menu.print_menu()"
   ]
  },
  {
   "cell_type": "code",
   "execution_count": 31,
   "metadata": {},
   "outputs": [],
   "source": []
  },
  {
   "cell_type": "code",
   "execution_count": 39,
   "metadata": {
    "collapsed": true
   },
   "outputs": [],
   "source": [
    "# Example solution\n",
    "\n",
    "\n",
    "\n",
    "\n",
    "\n",
    "\n",
    "\n",
    "\n",
    "\n",
    "\n",
    "\n",
    "\n",
    "\n",
    "\n",
    "\n",
    "\n",
    "\n",
    "\n",
    "\n",
    "\n",
    "\n",
    "\n",
    "\n",
    "\n",
    "\n",
    "class Menu(object):\n",
    "    def __init__(self):\n",
    "        self.menu = {}\n",
    "        \n",
    "    def register(self, name, price):\n",
    "        self.menu[name] = price\n",
    "        \n",
    "    def get_price(self, name):\n",
    "        # This will throw a `KeyError` \n",
    "        return self.menu[name]\n",
    "    \n",
    "    def print_menu(self):\n",
    "        print(\"Elliot's fabulous menu:\")\n",
    "        for name in self.menu:\n",
    "            print(name, \": \", self.menu[name])\n",
    "    \n",
    "    \n",
    "class Receipt(object):\n",
    "    def __init__(self, menu):\n",
    "        # Initialize values\n",
    "        self.menu = menu\n",
    "        self.tab = []\n",
    "        \n",
    "    def order(self, name):\n",
    "        # Ensure that `name` is actually on the menu by trying to get its price,\n",
    "        # even though we don't use the price right now.  This will throw a KeyError\n",
    "        # if `name` is not on the menu.\n",
    "        self.menu.get_price(name)\n",
    "        \n",
    "        # If it is on the menu, let's add it to our tab:\n",
    "        self.tab += [name]\n",
    "        \n",
    "    def get_tab(self):\n",
    "        # Just return our tab\n",
    "        return self.tab\n",
    "    \n",
    "    def get_subtotal(self):\n",
    "        # Return the sum of all the prices of all the items on our tab\n",
    "        return sum([self.menu.get_price(name) for name in self.tab])\n",
    "    \n",
    "    def get_total(self, tax_percent = 0.10, tip_percent = 0.15):\n",
    "        # Return subtotle plus all the tax nonsense\n",
    "        return self.get_subtotal() * (1.0 + tax_percent) * (1.0 + tip_percent)"
   ]
  },
  {
   "cell_type": "code",
   "execution_count": 40,
   "metadata": {},
   "outputs": [
    {
     "data": {
      "text/plain": [
       "30.9936"
      ]
     },
     "execution_count": 40,
     "metadata": {},
     "output_type": "execute_result"
    }
   ],
   "source": [
    "menu = Menu()\n",
    "menu.register(\"eggs\", 5.99)\n",
    "menu.register(\"waffles\", 6.99)\n",
    "menu.register(\"steak\", 15.99)\n",
    "menu.register(\"tea\", 0.75)\n",
    "menu.register(\"milk\", 1.50)\n",
    "\n",
    "receipt = Receipt(menu)\n",
    "\n",
    "# The breakfast of champions\n",
    "receipt.order(\"steak\")\n",
    "receipt.order(\"eggs\")\n",
    "receipt.order(\"milk\")\n",
    "\n",
    "# Let's tip well and add 10% tax.\n",
    "receipt.get_total(tax_percent = 0.10, tip_percent=0.20)"
   ]
  }
 ],
 "metadata": {
  "kernelspec": {
   "display_name": "Python 3",
   "language": "python",
   "name": "python3"
  },
  "language_info": {
   "codemirror_mode": {
    "name": "ipython",
    "version": 3
   },
   "file_extension": ".py",
   "mimetype": "text/x-python",
   "name": "python",
   "nbconvert_exporter": "python",
   "pygments_lexer": "ipython3",
   "version": "3.6.3"
  }
 },
 "nbformat": 4,
 "nbformat_minor": 2
}
