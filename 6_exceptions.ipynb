{
 "cells": [
  {
   "cell_type": "markdown",
   "metadata": {},
   "source": [
    "# Exceptions\n",
    "\n",
    "Exceptions are what happens when code encounters a problem at runtime.  Exceptions should never be the \"expected\" course of your program; instead they should be used to react to an unfortunate situation that you have foreseen; e.g. trying to load a file that does not exist, trying to read data from a remote server that hangs up the connection in the middle of something, trying to parse a corrupted HMTL file, etc...\n",
    "\n",
    "We create an exception by `raise`'ing it:"
   ]
  },
  {
   "cell_type": "code",
   "execution_count": 1,
   "metadata": {},
   "outputs": [
    {
     "ename": "ValueError",
     "evalue": "we are in trouble",
     "output_type": "error",
     "traceback": [
      "\u001b[0;31m---------------------------------------------------------------------------\u001b[0m",
      "\u001b[0;31mValueError\u001b[0m                                Traceback (most recent call last)",
      "\u001b[0;32m<ipython-input-1-c7cfc93718af>\u001b[0m in \u001b[0;36m<module>\u001b[0;34m()\u001b[0m\n\u001b[0;32m----> 1\u001b[0;31m \u001b[0;32mraise\u001b[0m \u001b[0mValueError\u001b[0m\u001b[0;34m(\u001b[0m\u001b[0;34m\"we are in trouble\"\u001b[0m\u001b[0;34m)\u001b[0m\u001b[0;34m\u001b[0m\u001b[0m\n\u001b[0m",
      "\u001b[0;31mValueError\u001b[0m: we are in trouble"
     ]
    }
   ],
   "source": [
    "raise ValueError(\"we are in trouble\")"
   ]
  },
  {
   "cell_type": "markdown",
   "metadata": {},
   "source": [
    "There are [a standard set of Python exceptions](https://docs.python.org/3/library/exceptions.html), most of the time if you want to raise an exception you can just use one of those.  If you really need your own, you can create your own type of Exception object and raise that instead.\n",
    "\n",
    "## `try`/`except`:\n",
    "\n",
    "To catch an exception, use the `try`/`except` construct:"
   ]
  },
  {
   "cell_type": "code",
   "execution_count": 8,
   "metadata": {},
   "outputs": [
    {
     "name": "stdout",
     "output_type": "stream",
     "text": [
      "We handled an error\n",
      "We lived!\n"
     ]
    }
   ],
   "source": [
    "try:\n",
    "    raise ValueError(\"heh\")\n",
    "    print(\"We got past the value error\")\n",
    "except:\n",
    "    print(\"We handled an error\")\n",
    "\n",
    "print(\"We lived!\")"
   ]
  },
  {
   "cell_type": "markdown",
   "metadata": {},
   "source": [
    "To catch only certain kinds of errors, use `except <ExceptionType> as e`:"
   ]
  },
  {
   "cell_type": "code",
   "execution_count": 9,
   "metadata": {},
   "outputs": [
    {
     "name": "stdout",
     "output_type": "stream",
     "text": [
      "-0.0\n",
      "-0.1111111111111111\n",
      "-0.25\n",
      "-0.42857142857142855\n",
      "-0.6666666666666666\n",
      "-1.0\n",
      "-1.5\n",
      "-2.3333333333333335\n",
      "-4.0\n",
      "-9.0\n",
      "!!!!! Division by zero, returning 0.0 !!!!!\n",
      "0.0\n",
      "11.0\n",
      "6.0\n",
      "4.333333333333333\n",
      "3.5\n",
      "3.0\n",
      "2.6666666666666665\n",
      "2.4285714285714284\n",
      "2.25\n",
      "2.111111111111111\n"
     ]
    }
   ],
   "source": [
    "def mathy_junk(x, y):\n",
    "    try:\n",
    "        # Try to do this funky division\n",
    "        return x/(x - y)\n",
    "    except ZeroDivisionError as e:\n",
    "        # If something went wrong, just return 0.0\n",
    "        print(\"!!!!! Division by zero, returning 0.0 !!!!!\")\n",
    "        return 0.0\n",
    "\n",
    "for x in range(20):\n",
    "    print(mathy_junk(x, 10))"
   ]
  },
  {
   "cell_type": "code",
   "execution_count": 10,
   "metadata": {},
   "outputs": [
    {
     "name": "stdout",
     "output_type": "stream",
     "text": [
      "5\n",
      "2\n",
      "3\n"
     ]
    }
   ],
   "source": [
    "a = 1\n",
    "b = 2\n",
    "c = 3\n",
    "\n",
    "try:\n",
    "    a = 5\n",
    "    c = 2/0\n",
    "    b = 7\n",
    "except:\n",
    "    pass\n",
    "\n",
    "print(a)\n",
    "print(b)\n",
    "print(c)"
   ]
  },
  {
   "cell_type": "markdown",
   "metadata": {},
   "source": [
    "## `finally`:\n",
    "\n",
    "We can also define certain actions to happen \"no matter what\", e.g. if we need to make sure to clean something up by using the `finally` clause:"
   ]
  },
  {
   "cell_type": "code",
   "execution_count": 15,
   "metadata": {},
   "outputs": [
    {
     "name": "stdout",
     "output_type": "stream",
     "text": [
      "We ALWAYS do this, even if something breaks!\n",
      "1.0\n",
      "We broke :(\n",
      "We ALWAYS do this, even if something breaks!\n",
      "None\n"
     ]
    }
   ],
   "source": [
    "def maybe_break(x):\n",
    "    try:\n",
    "        return 1/x\n",
    "        print(\"We didn't break!\")\n",
    "    except:\n",
    "        print(\"We broke :(\")\n",
    "    finally:\n",
    "        print(\"We ALWAYS do this, even if something breaks!\")\n",
    "\n",
    "print(maybe_break(1))\n",
    "print(maybe_break(0))"
   ]
  },
  {
   "cell_type": "code",
   "execution_count": 19,
   "metadata": {},
   "outputs": [],
   "source": []
  }
 ],
 "metadata": {
  "kernelspec": {
   "display_name": "Python 3",
   "language": "python",
   "name": "python3"
  },
  "language_info": {
   "codemirror_mode": {
    "name": "ipython",
    "version": 3
   },
   "file_extension": ".py",
   "mimetype": "text/x-python",
   "name": "python",
   "nbconvert_exporter": "python",
   "pygments_lexer": "ipython3",
   "version": "3.6.3"
  }
 },
 "nbformat": 4,
 "nbformat_minor": 2
}
